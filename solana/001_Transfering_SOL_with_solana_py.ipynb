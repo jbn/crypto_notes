{
 "cells": [
  {
   "cell_type": "markdown",
   "id": "0627d19e-bf51-4a7b-9418-d8427fa05c99",
   "metadata": {},
   "source": [
    "# Transfering SOL with `solana.py`"
   ]
  },
  {
   "cell_type": "markdown",
   "id": "48b9d585-86a3-4f4c-96ab-f3e04230d008",
   "metadata": {},
   "source": [
    "This notebook uses [Michael Huang's `solana.py`](https://github.com/michaelhly/solana-py) to,\n",
    "\n",
    "1. Create a `Keypair`\n",
    "2. Request an airdrop\n",
    "3. Transfering some of it to a different `PublicKey`\n",
    "\n",
    "That's not terribly interesting. But, it does show off the almost unreasonable effectiveness of effectiveness of executing transactions using blockchains."
   ]
  },
  {
   "cell_type": "markdown",
   "id": "ae6b5f4b-7654-493d-ad4c-fbe16a41038f",
   "metadata": {},
   "source": [
    "## Setup\n",
    "\n",
    "I'm assuming you know how to set up a python environment. You'll need to do a,\n",
    "\n",
    "```bash\n",
    "pip install solana\n",
    "```\n",
    "\n",
    "for the rest of this."
   ]
  },
  {
   "cell_type": "code",
   "execution_count": 10,
   "id": "17c9ae19-0cbe-4d6c-bd81-9ceeaa7f613e",
   "metadata": {},
   "outputs": [],
   "source": [
    "import asyncio\n",
    "\n",
    "from solana.keypair import Keypair\n",
    "from solana.publickey import PublicKey\n",
    "from solana.rpc.async_api import AsyncClient\n",
    "from solana.system_program import TransferParams, transfer\n",
    "from solana.transaction import Transaction"
   ]
  },
  {
   "cell_type": "markdown",
   "id": "43aa505d-ae21-481a-8e93-652f0daa4003",
   "metadata": {},
   "source": [
    "## Step-by-Step"
   ]
  },
  {
   "cell_type": "markdown",
   "id": "910baf7e-d118-4046-988d-298613cfc0bb",
   "metadata": {},
   "source": [
    "### Generate a Keypair\n",
    "\n",
    "Crypto means cryptography! On the blockchain, too. First you'll need to generate a keypair. Basically, this means you're computer will need to generate some special random numbers. (Or, you can create one from a 32-byte seed.) Internally, `solana.py` uses [`NaCl`](https://nacl.cr.yp.to/) because \"Don't Roll Your Own Crypto\" is actually a much stronger best-practice constraint than \"Don't Repeat Yourself\". "
   ]
  },
  {
   "cell_type": "code",
   "execution_count": 8,
   "id": "c121564f-a2b9-4630-ad5a-9de7c1383bc6",
   "metadata": {},
   "outputs": [],
   "source": [
    "keypair = Keypair()"
   ]
  },
  {
   "cell_type": "markdown",
   "id": "b0eab89e-e3c8-4702-92b4-e8cc40d8eec2",
   "metadata": {},
   "source": [
    "Rather than looking at the raw bytes, people share encoded representations that are easy to copy. [Base58](https://tools.ietf.org/id/draft-msporny-base58-01.html) is a common one. It doesn't have zero, capital-O, 1, or lowercase-L in it's alphabet. If you've ever tried to use these characters in a password, you'll understand why this is Good."
   ]
  },
  {
   "cell_type": "code",
   "execution_count": 9,
   "id": "0bcc3fb6-59a3-4840-afc3-0e1ce2a78fd2",
   "metadata": {},
   "outputs": [
    {
     "name": "stdout",
     "output_type": "stream",
     "text": [
      "Your BASE58-encoded public key: D5UmnAErpKU8pFkxbJkeLwqE5pNavbdLgRMMwhQqafxd\n"
     ]
    }
   ],
   "source": [
    "pk = keypair.public_key\n",
    "print(f\"Your BASE58-encoded public key: {pk}\")"
   ]
  },
  {
   "cell_type": "markdown",
   "id": "e181be1a-42b2-40c3-b258-df93afc2b459",
   "metadata": {},
   "source": [
    "### Create a client and connect to devnet"
   ]
  },
  {
   "cell_type": "markdown",
   "id": "df5dd5cf-885b-4f8a-a90c-da7040982650",
   "metadata": {},
   "source": [
    "To mess around, we'll connect to [`devnet`](https://docs.solana.com/clusters#devnet). Nothing that happens here is real, and their is a faucet to give you free tokens (that are also not real in that they have no economic value)."
   ]
  },
  {
   "cell_type": "code",
   "execution_count": 11,
   "id": "5702572a-abe3-4e32-87c2-04a702bb162b",
   "metadata": {},
   "outputs": [],
   "source": [
    "client = AsyncClient(\"https://api.devnet.solana.com\")\n",
    "assert await client.is_connected()"
   ]
  },
  {
   "cell_type": "markdown",
   "id": "097e1a36-1e8d-4a52-b6ba-6b0d862b8005",
   "metadata": {},
   "source": [
    "### Check your Balance"
   ]
  },
  {
   "cell_type": "markdown",
   "id": "fe0b2925-4549-4cdc-afe2-b35722994045",
   "metadata": {},
   "source": [
    "In the first step you created a keypair. You can check the balance (0) of the account addressed by that public key."
   ]
  },
  {
   "cell_type": "code",
   "execution_count": 4,
   "id": "4692815d-ff25-40a3-9e4f-f1ec9bb31715",
   "metadata": {},
   "outputs": [
    {
     "data": {
      "text/plain": [
       "{'jsonrpc': '2.0',\n",
       " 'result': {'context': {'slot': 95582119}, 'value': 0},\n",
       " 'id': 1}"
      ]
     },
     "execution_count": 4,
     "metadata": {},
     "output_type": "execute_result"
    }
   ],
   "source": [
    "await client.get_balance(pk)"
   ]
  },
  {
   "cell_type": "markdown",
   "id": "c50a85f7-56c3-4063-bb14-cd98ecb918b0",
   "metadata": {},
   "source": [
    "This is one of those (sorta) non-skeuomorphic things that confuses people a bit. \n",
    "\n",
    "If you have some SOL (or BTC, or ETH, or whatever) in your wallet, you don't \"have\" it in these sense you have a dollar in your wallet. Instead -- and the whole point -- is that you have a cryptographic object that can control value associated with its public key. But the data itself (**ignoring the private key**) resides entirely within the blockchain. There is no registration step or anything. So even though this script didn't send the public key to the cluster, you can query the associated balance."
   ]
  },
  {
   "cell_type": "markdown",
   "id": "4929d6be-05df-4191-b9a0-126470f3bae1",
   "metadata": {},
   "source": [
    "### Request An Airdrop\n",
    "\n",
    "Airdrops are a really *really* interesting part of how cryptocurrencies work. In this context though (`devnet`) it just gives you something that has no value for free so that you can fuck around. One `SOL` is 1,000,000,000 lamports. Crypo loves to make you squint to count the zeros."
   ]
  },
  {
   "cell_type": "code",
   "execution_count": 14,
   "id": "8f764410-fb89-4bfe-96f2-18323bf6e342",
   "metadata": {},
   "outputs": [
    {
     "data": {
      "text/plain": [
       "{'jsonrpc': '2.0',\n",
       " 'result': '5zxvfWDhh2g3bZToodPo4arW2AKNDv2wqgu6kk6WAXSdnN4zPUVvUnUaWstCjRDMCabhuYELRvTBaYegepfPbu5W',\n",
       " 'id': 2}"
      ]
     },
     "execution_count": 14,
     "metadata": {},
     "output_type": "execute_result"
    }
   ],
   "source": [
    "ONE_SOL = 1_000_000_000\n",
    "\n",
    "await client.request_airdrop(pk, ONE_SOL, commitment='finalized')"
   ]
  },
  {
   "cell_type": "markdown",
   "id": "ac9c6859-37a5-416e-8e67-87b2ff70daf0",
   "metadata": {},
   "source": [
    "The requested [`commitment` parameter](https://docs.solana.com/implemented-proposals/commitment) (here as a keyword for legibility, which isn't required) is set to `finalized`. Remember, solana is decentralized (ish). You interacted with one node of the cluster. But that isn't the only one required for a transaction to be considered confirmed. "
   ]
  },
  {
   "cell_type": "markdown",
   "id": "921a3fcc-02dc-491d-9a76-14dabdb64e0f",
   "metadata": {},
   "source": [
    "### Check your balance, again"
   ]
  },
  {
   "cell_type": "markdown",
   "id": "3ae6e269-84a5-4117-8d30-3024ceeef54d",
   "metadata": {},
   "source": [
    "Look at that!"
   ]
  },
  {
   "cell_type": "code",
   "execution_count": 15,
   "id": "84db6292-2ad7-4376-a988-0f5f7e8ec1d3",
   "metadata": {},
   "outputs": [
    {
     "data": {
      "text/plain": [
       "{'jsonrpc': '2.0',\n",
       " 'result': {'context': {'slot': 95590964}, 'value': 2000000000},\n",
       " 'id': 3}"
      ]
     },
     "execution_count": 15,
     "metadata": {},
     "output_type": "execute_result"
    }
   ],
   "source": [
    "await client.get_balance(pk)"
   ]
  },
  {
   "cell_type": "markdown",
   "id": "529e7b7c-1585-4005-9006-8dcee598e69e",
   "metadata": {},
   "source": [
    "You've got SOL! Or, more concretely, the ledger says the account associated with your public key and controllable by the paired private one has a balance of 1 SOL or 1,000,000,000 lamports."
   ]
  },
  {
   "cell_type": "markdown",
   "id": "399899a0-7fe4-41bf-b392-817166f1717b",
   "metadata": {},
   "source": [
    "### Get account info"
   ]
  },
  {
   "cell_type": "markdown",
   "id": "efa03e18-6d4e-44e1-8029-21c82cfe61b9",
   "metadata": {},
   "source": [
    "So what exactly is the account though? \n",
    "\n",
    "Well, the one that gave you is the [`System Program`](https://docs.solana.com/developing/runtime-facilities/programs#system-program) (`11111111111111111111111111111111`). If you've done programming on other block chains, consider this to be a contract. The account is not executable because you didn't use SOL to create a program."
   ]
  },
  {
   "cell_type": "code",
   "execution_count": 16,
   "id": "f553803a-fe6a-4d5e-b70b-76e075ea231c",
   "metadata": {},
   "outputs": [
    {
     "data": {
      "text/plain": [
       "{'jsonrpc': '2.0',\n",
       " 'result': {'context': {'slot': 95591225},\n",
       "  'value': {'data': ['', 'base64'],\n",
       "   'executable': False,\n",
       "   'lamports': 2000000000,\n",
       "   'owner': '11111111111111111111111111111111',\n",
       "   'rentEpoch': 221}},\n",
       " 'id': 4}"
      ]
     },
     "execution_count": 16,
     "metadata": {},
     "output_type": "execute_result"
    }
   ],
   "source": [
    "await client.get_account_info(pk)"
   ]
  },
  {
   "cell_type": "markdown",
   "id": "ad6e5193-8ccc-4447-a0b6-7890a29d34bf",
   "metadata": {},
   "source": [
    "### Now Create a Different account"
   ]
  },
  {
   "cell_type": "markdown",
   "id": "ac91aff8-5fd1-405e-b96d-2506e8f1a4b9",
   "metadata": {},
   "source": [
    "This notebook just has you send some airdropped SOL to another account. So let's create one, bound to the variable `bob` for convieinece)."
   ]
  },
  {
   "cell_type": "code",
   "execution_count": 19,
   "id": "c2e6ccdc-4020-4d37-8f5d-b1b478d6cdf1",
   "metadata": {},
   "outputs": [
    {
     "name": "stdout",
     "output_type": "stream",
     "text": [
      "Bob's public key: HbRNRW55h8Th6rG8RwKMr6DCgeHAaetWm2Rk7rMDK39P\n"
     ]
    }
   ],
   "source": [
    "bob = Keypair.generate()\n",
    "print(f\"Bob's public key: {bob.public_key}\")"
   ]
  },
  {
   "cell_type": "markdown",
   "id": "a8159f4f-efc9-4505-af58-0a3ffb8398f4",
   "metadata": {},
   "source": [
    "### Transfer Some SOL"
   ]
  },
  {
   "cell_type": "markdown",
   "id": "55644d1f-7656-42a3-856d-c9bdc918dfab",
   "metadata": {},
   "source": [
    "We want to share some of our massive valueless `devnet` token bounty with `bob`. To do so, we create a transaction that contains a transfer instruction, sign it, then send it to the cluster."
   ]
  },
  {
   "cell_type": "code",
   "execution_count": 20,
   "id": "62c1fbf5-1f6f-437d-a1e2-b0527b8d7c40",
   "metadata": {},
   "outputs": [
    {
     "data": {
      "text/plain": [
       "{'jsonrpc': '2.0',\n",
       " 'result': '4QTEz6HqZg7mhjeGdoo5LhUqtCjD2Rsrf1zEtQSQ69j2uTSP7G1oyWKjjwquGus4HNNP1JQXCCGzxjYmKQ1xzy1H',\n",
       " 'id': 6}"
      ]
     },
     "execution_count": 20,
     "metadata": {},
     "output_type": "execute_result"
    }
   ],
   "source": [
    "txn = Transaction()\n",
    "instruction = transfer(TransferParams(from_pubkey=pk, to_pubkey=bob.public_key, lamports=500_000_000))\n",
    "txn.add(instruction)\n",
    "res = await client.send_transaction(txn, keypair)\n",
    "txn_hash = res['result']\n",
    "res"
   ]
  },
  {
   "cell_type": "markdown",
   "id": "058f8bb4-7a8c-4aa4-96c4-ff0b37b088ab",
   "metadata": {},
   "source": [
    "Same caveat as before applies. We didn't \"register\" Bob's address because that's not how any of this works."
   ]
  },
  {
   "cell_type": "markdown",
   "id": "40d50c66-3bec-43f9-bf46-8b0c7a8099b9",
   "metadata": {},
   "source": [
    "### Check the Balance"
   ]
  },
  {
   "cell_type": "markdown",
   "id": "8dc30389-6454-4a45-ac95-47cecd4ae9d4",
   "metadata": {},
   "source": [
    "Now let's make sure `Bob` got it."
   ]
  },
  {
   "cell_type": "code",
   "execution_count": 22,
   "id": "3da28f4b-5bfa-466e-836f-e681fa5a564a",
   "metadata": {},
   "outputs": [
    {
     "data": {
      "text/plain": [
       "{'jsonrpc': '2.0',\n",
       " 'result': {'context': {'slot': 95592289}, 'value': 954},\n",
       " 'id': 8}"
      ]
     },
     "execution_count": 22,
     "metadata": {},
     "output_type": "execute_result"
    }
   ],
   "source": [
    "await client.get_balance(bob.public_key)"
   ]
  },
  {
   "cell_type": "markdown",
   "id": "46c2ca8b-5460-4bd7-a8e7-3744c521d1ed",
   "metadata": {},
   "source": [
    "But wait! That's not the amount we wanted to send! Some of it got lost. The other part about crypto is you have to pay for transactions. The difference between what we sent and what was received is the gas. "
   ]
  },
  {
   "cell_type": "markdown",
   "id": "2311b5b0-f8d8-486d-86d5-0e73e2ab36f0",
   "metadata": {},
   "source": [
    "### View the Transaction"
   ]
  },
  {
   "cell_type": "markdown",
   "id": "1ef6abe5-ab42-458a-9a06-f215998325a2",
   "metadata": {},
   "source": [
    "You don't __need__ to use the API to inspect this transaction, even though it's more fun. There are public explorers for that,"
   ]
  },
  {
   "cell_type": "code",
   "execution_count": 24,
   "id": "ffde3f5e-6ec5-41df-88fa-43f258833553",
   "metadata": {},
   "outputs": [
    {
     "name": "stdout",
     "output_type": "stream",
     "text": [
      "https://explorer.solana.com/tx/4QTEz6HqZg7mhjeGdoo5LhUqtCjD2Rsrf1zEtQSQ69j2uTSP7G1oyWKjjwquGus4HNNP1JQXCCGzxjYmKQ1xzy1H?cluster=devnet\n"
     ]
    }
   ],
   "source": [
    "print(f\"https://explorer.solana.com/tx/{txn_hash}?cluster=devnet\")"
   ]
  },
  {
   "cell_type": "markdown",
   "id": "cf1a5a66-40e3-4569-be59-d6b923dbf24c",
   "metadata": {},
   "source": [
    "If you visit that link, you'll see,\n",
    "\n",
    "```\n",
    "Program 11111111111111111111111111111111 invoke [1]\n",
    "Program 11111111111111111111111111111111 success\n",
    "```\n",
    "\n",
    "Which means that the transaction called the `System Program` successfully. The `System Program` does transfers."
   ]
  },
  {
   "cell_type": "markdown",
   "id": "ad2b5984-88b6-4599-b330-f8668b7c1b2b",
   "metadata": {},
   "source": [
    "### Cleanup"
   ]
  },
  {
   "cell_type": "code",
   "execution_count": null,
   "id": "e7ef0208-63ac-4552-bd2e-5290745f2ac1",
   "metadata": {},
   "outputs": [],
   "source": [
    "await client.close()"
   ]
  }
 ],
 "metadata": {
  "kernelspec": {
   "display_name": "Python 3 (ipykernel)",
   "language": "python",
   "name": "python3"
  },
  "language_info": {
   "codemirror_mode": {
    "name": "ipython",
    "version": 3
   },
   "file_extension": ".py",
   "mimetype": "text/x-python",
   "name": "python",
   "nbconvert_exporter": "python",
   "pygments_lexer": "ipython3",
   "version": "3.7.10"
  }
 },
 "nbformat": 4,
 "nbformat_minor": 5
}
